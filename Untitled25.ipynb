{
  "nbformat": 4,
  "nbformat_minor": 0,
  "metadata": {
    "colab": {
      "provenance": [],
      "authorship_tag": "ABX9TyNknQmx+MtAknvxOWveYdLE",
      "include_colab_link": true
    },
    "kernelspec": {
      "name": "python3",
      "display_name": "Python 3"
    },
    "language_info": {
      "name": "python"
    }
  },
  "cells": [
    {
      "cell_type": "markdown",
      "metadata": {
        "id": "view-in-github",
        "colab_type": "text"
      },
      "source": [
        "<a href=\"https://colab.research.google.com/github/ann-nikki/first_repository/blob/main/Untitled25.ipynb\" target=\"_parent\"><img src=\"https://colab.research.google.com/assets/colab-badge.svg\" alt=\"Open In Colab\"/></a>"
      ]
    },
    {
      "cell_type": "code",
      "execution_count": null,
      "metadata": {
        "id": "lZ0K-PJh9opZ"
      },
      "outputs": [],
      "source": [
        "a = list(map(int, input().split(', ')))\n",
        "b = []\n",
        "for i in range(1, a[1]):\n",
        "    if i2 > a[0] and i2 < a[1]:\n",
        "        b.append(i)\n",
        "print(', '.join(map(str, b)))"
      ]
    },
    {
      "cell_type": "code",
      "source": [
        "def print_hello_world(): #название ф-ции\n",
        "    print(\"Hello world!\") #сама ф-ция\n",
        "print_hello_world() #вызов ф-ции"
      ],
      "metadata": {
        "id": "eXzEr4vWmwKj",
        "colab": {
          "base_uri": "https://localhost:8080/"
        },
        "outputId": "c0476b50-2954-4818-caf5-8467ee5513aa"
      },
      "execution_count": null,
      "outputs": [
        {
          "output_type": "stream",
          "name": "stdout",
          "text": [
            "Hello world!\n"
          ]
        }
      ]
    },
    {
      "cell_type": "code",
      "source": [
        "# 4.2 Параметры и аргументы функции\n",
        "#Параметрами называют переменные, которые используются при создании функции.\n",
        "#Аргументы – это значения, которые передаются функции во время ее вызова для выполнения определенных операций. Тело функции содержит код, который работает с аргументами.\n",
        "\n",
        "def sum_f(a,b): # а и b параметры\n",
        "    print(a+b) #тело ф-ции (код, который работает с аргументами.)\n",
        "sum_f(4,7) #пример аргументов 4, 7\n",
        "sum_f(3,2) #пример аргументов a-3, 2 -b\n",
        "sum_f(b=3,a=2)  #пример аргументов c равно(неважно какой порядок)"
      ],
      "metadata": {
        "colab": {
          "base_uri": "https://localhost:8080/"
        },
        "id": "H7g2vUl8kcvQ",
        "outputId": "9eeeb085-1aa0-4347-d70c-8407a493cb03"
      },
      "execution_count": null,
      "outputs": [
        {
          "output_type": "stream",
          "name": "stdout",
          "text": [
            "11\n",
            "5\n",
            "5\n"
          ]
        }
      ]
    },
    {
      "cell_type": "code",
      "source": [
        "def sum_f(a,b, c=50): # c - параметр заданный по умолчанию\n",
        "    print(f'a={a},b={b},c={c}')\n",
        "    print(a+b*c)\n",
        "sum_f(4,7) #пример аргументов 1\n",
        "sum_f(1,2,3) #пример аргументов 2, где с - не по умолчанию"
      ],
      "metadata": {
        "colab": {
          "base_uri": "https://localhost:8080/"
        },
        "id": "eUvSNh3cmJvw",
        "outputId": "a3819d8a-9f0a-462d-9ff3-b7428443df9e"
      },
      "execution_count": null,
      "outputs": [
        {
          "output_type": "stream",
          "name": "stdout",
          "text": [
            "a=4,b=7,c=50\n",
            "354\n",
            "a=1,b=2,c=3\n",
            "7\n"
          ]
        }
      ]
    },
    {
      "cell_type": "code",
      "source": [
        "# 4.3 Оператор return\n",
        "def sum_f(a,b, c=50): # c - параметр заданный по умолчанию\n",
        "    print(f'a={a},b={b},c={c}')\n",
        "    return a+b*c  #возвращение результата в основную программу для дальнейшей работы\n",
        "sum_f(4,7) #пример аргументов 1\n",
        "sum_f(1,2,3) #пример аргументов 2, где с - не по умолчанию\n",
        "\n",
        "#return завершает выполнение функции, поэтому чаще всего пишется в конце функции или в специальном условии."
      ],
      "metadata": {
        "colab": {
          "base_uri": "https://localhost:8080/"
        },
        "id": "iU-Nk9G_nVLK",
        "outputId": "f51f7fd4-f692-4cf0-8bee-bb8280d90e16"
      },
      "execution_count": null,
      "outputs": [
        {
          "output_type": "stream",
          "name": "stdout",
          "text": [
            "a=4,b=7,c=50\n",
            "a=1,b=2,c=3\n"
          ]
        },
        {
          "output_type": "execute_result",
          "data": {
            "text/plain": [
              "7"
            ]
          },
          "metadata": {},
          "execution_count": 18
        }
      ]
    },
    {
      "cell_type": "code",
      "source": [
        "def divide_positive(dividend,devisor): #ф-ция проверяет делимое dividend и делитель devisor являются ли положительными числами\n",
        "    if dividend <= 0 or devisor <= 0: #Если хотя бы одно из чисел меньше или равно нулю\n",
        "        return -1 #вернуть -1\n",
        "    else: # в другом случае\n",
        "        return dividend/devisor\n",
        "print(divide_positive(10,2))\n",
        "print(divide_positive(8,-4))"
      ],
      "metadata": {
        "colab": {
          "base_uri": "https://localhost:8080/"
        },
        "id": "JNOibpfZoHs7",
        "outputId": "a5c77eca-474b-4fed-e1a4-013ddd9b3546"
      },
      "execution_count": null,
      "outputs": [
        {
          "output_type": "stream",
          "name": "stdout",
          "text": [
            "5.0\n",
            "-1\n"
          ]
        }
      ]
    },
    {
      "cell_type": "code",
      "source": [
        "# Значение, полученное из функции при помощи return, можно вывести или присвоить другой переменной для дальнейшего использования в программе.\n",
        "n1 = sum_f(4,7)\n",
        "n2 = sum_f(1,2,3)\n",
        "print(n1,n2)"
      ],
      "metadata": {
        "colab": {
          "base_uri": "https://localhost:8080/"
        },
        "id": "7sXnXqhqruTx",
        "outputId": "c4c3bd2c-4c2d-4333-f5a9-cb0a3ea1e831"
      },
      "execution_count": null,
      "outputs": [
        {
          "output_type": "stream",
          "name": "stdout",
          "text": [
            "a=4,b=7,c=50\n",
            "a=1,b=2,c=3\n",
            "354 7\n"
          ]
        }
      ]
    },
    {
      "cell_type": "code",
      "source": [
        "# 4.4 Области видимости Когда мы объявляем переменные внутри функции, они имеют локальную область видимости. Мы не можем получить к ним доступ вне функции.\n",
        "\n",
        "def greet():\n",
        "    message = 'Hello' # локальная переменная\n",
        "print(\"Local\", message)\n",
        "greet() #пытаемся получить доступ к переменной message вне ф-ции greet\n",
        "print(message) #NameError: name 'message' is not defined"
      ],
      "metadata": {
        "colab": {
          "base_uri": "https://localhost:8080/",
          "height": 245
        },
        "id": "AtKmzG0HH2z1",
        "outputId": "cba2c543-6e54-458d-bb80-7ee96c486786"
      },
      "execution_count": null,
      "outputs": [
        {
          "output_type": "error",
          "ename": "NameError",
          "evalue": "name 'message' is not defined",
          "traceback": [
            "\u001b[0;31m---------------------------------------------------------------------------\u001b[0m",
            "\u001b[0;31mNameError\u001b[0m                                 Traceback (most recent call last)",
            "\u001b[0;32m<ipython-input-1-009f4672c4f8>\u001b[0m in \u001b[0;36m<cell line: 4>\u001b[0;34m()\u001b[0m\n\u001b[1;32m      2\u001b[0m \u001b[0;32mdef\u001b[0m \u001b[0mgreet\u001b[0m\u001b[0;34m(\u001b[0m\u001b[0;34m)\u001b[0m\u001b[0;34m:\u001b[0m\u001b[0;34m\u001b[0m\u001b[0;34m\u001b[0m\u001b[0m\n\u001b[1;32m      3\u001b[0m     \u001b[0mmessage\u001b[0m \u001b[0;34m=\u001b[0m \u001b[0;34m'Hello'\u001b[0m \u001b[0;31m# локальная переменная\u001b[0m\u001b[0;34m\u001b[0m\u001b[0;34m\u001b[0m\u001b[0m\n\u001b[0;32m----> 4\u001b[0;31m \u001b[0mprint\u001b[0m\u001b[0;34m(\u001b[0m\u001b[0;34m\"Local\"\u001b[0m\u001b[0;34m,\u001b[0m \u001b[0mmessage\u001b[0m\u001b[0;34m)\u001b[0m\u001b[0;34m\u001b[0m\u001b[0;34m\u001b[0m\u001b[0m\n\u001b[0m\u001b[1;32m      5\u001b[0m \u001b[0mgreet\u001b[0m\u001b[0;34m(\u001b[0m\u001b[0;34m)\u001b[0m \u001b[0;31m#пытаемся получить доступ к переменной message вне ф-ции greet\u001b[0m\u001b[0;34m\u001b[0m\u001b[0;34m\u001b[0m\u001b[0m\n\u001b[1;32m      6\u001b[0m \u001b[0mprint\u001b[0m\u001b[0;34m(\u001b[0m\u001b[0mmessage\u001b[0m\u001b[0;34m)\u001b[0m\u001b[0;34m\u001b[0m\u001b[0;34m\u001b[0m\u001b[0m\n",
            "\u001b[0;31mNameError\u001b[0m: name 'message' is not defined"
          ]
        }
      ]
    },
    {
      "cell_type": "code",
      "source": [
        "#Переменные, созданные в основном коде программы, находятся в глобальной области видимости. Это означает, что к ним можно получить доступ в любой части программы.\n",
        "\n",
        "message1 = 'Hello!' # Глобальная переменная\n",
        "def greet():\n",
        "message2 = 'Nice to meet you!' # Локальная переменная\n",
        "print(f'{message1} {message2}')\n",
        "greet()\n",
        "print(message1)"
      ],
      "metadata": {
        "colab": {
          "base_uri": "https://localhost:8080/",
          "height": 140
        },
        "id": "xFKwaX0O0Zwf",
        "outputId": "2607828f-5924-4224-80dc-4a7ce3691afe"
      },
      "execution_count": null,
      "outputs": [
        {
          "output_type": "error",
          "ename": "IndentationError",
          "evalue": "expected an indented block after function definition on line 4 (<ipython-input-3-4f4592ba8af4>, line 5)",
          "traceback": [
            "\u001b[0;36m  File \u001b[0;32m\"<ipython-input-3-4f4592ba8af4>\"\u001b[0;36m, line \u001b[0;32m5\u001b[0m\n\u001b[0;31m    message2 = 'Nice to meet you!' # Локальная переменная\u001b[0m\n\u001b[0m    ^\u001b[0m\n\u001b[0;31mIndentationError\u001b[0m\u001b[0;31m:\u001b[0m expected an indented block after function definition on line 4\n"
          ]
        }
      ]
    },
    {
      "cell_type": "code",
      "source": [
        "#Можно заметить, что в данном случае программа работает корректно, глобальная переменная известна функции. Однако, если попробовать ее изменить, возникает ошибка\n",
        "message1 = 'Hello!'\n",
        "\n",
        "def greet():\n",
        "    message1 = message1 * 2 # UnboundLocalError: local variable 'message1' referenced before assignment проба изменить)\n",
        "    message2 = 'Nice to meet you!'\n",
        "    print(f'{message1} {message2}')\n",
        "\n",
        "greet()\n",
        "print(message1)"
      ],
      "metadata": {
        "colab": {
          "base_uri": "https://localhost:8080/",
          "height": 349
        },
        "id": "P05YfiZw05Rw",
        "outputId": "8b732d12-85c0-4714-c50c-7cfb72ebbc14"
      },
      "execution_count": null,
      "outputs": [
        {
          "output_type": "error",
          "ename": "UnboundLocalError",
          "evalue": "local variable 'message1' referenced before assignment",
          "traceback": [
            "\u001b[0;31m---------------------------------------------------------------------------\u001b[0m",
            "\u001b[0;31mUnboundLocalError\u001b[0m                         Traceback (most recent call last)",
            "\u001b[0;32m<ipython-input-4-e727cd713dc7>\u001b[0m in \u001b[0;36m<cell line: 8>\u001b[0;34m()\u001b[0m\n\u001b[1;32m      6\u001b[0m     \u001b[0mprint\u001b[0m\u001b[0;34m(\u001b[0m\u001b[0;34mf'{message1} {message2}'\u001b[0m\u001b[0;34m)\u001b[0m\u001b[0;34m\u001b[0m\u001b[0;34m\u001b[0m\u001b[0m\n\u001b[1;32m      7\u001b[0m \u001b[0;34m\u001b[0m\u001b[0m\n\u001b[0;32m----> 8\u001b[0;31m \u001b[0mgreet\u001b[0m\u001b[0;34m(\u001b[0m\u001b[0;34m)\u001b[0m\u001b[0;34m\u001b[0m\u001b[0;34m\u001b[0m\u001b[0m\n\u001b[0m\u001b[1;32m      9\u001b[0m \u001b[0mprint\u001b[0m\u001b[0;34m(\u001b[0m\u001b[0mmessage1\u001b[0m\u001b[0;34m)\u001b[0m\u001b[0;34m\u001b[0m\u001b[0;34m\u001b[0m\u001b[0m\n",
            "\u001b[0;32m<ipython-input-4-e727cd713dc7>\u001b[0m in \u001b[0;36mgreet\u001b[0;34m()\u001b[0m\n\u001b[1;32m      2\u001b[0m \u001b[0;34m\u001b[0m\u001b[0m\n\u001b[1;32m      3\u001b[0m \u001b[0;32mdef\u001b[0m \u001b[0mgreet\u001b[0m\u001b[0;34m(\u001b[0m\u001b[0;34m)\u001b[0m\u001b[0;34m:\u001b[0m\u001b[0;34m\u001b[0m\u001b[0;34m\u001b[0m\u001b[0m\n\u001b[0;32m----> 4\u001b[0;31m     \u001b[0mmessage1\u001b[0m \u001b[0;34m=\u001b[0m \u001b[0mmessage1\u001b[0m \u001b[0;34m*\u001b[0m \u001b[0;36m2\u001b[0m \u001b[0;31m# UnboundLocalError: local variable 'message1' referenced before assignment\u001b[0m\u001b[0;34m\u001b[0m\u001b[0;34m\u001b[0m\u001b[0m\n\u001b[0m\u001b[1;32m      5\u001b[0m     \u001b[0mmessage2\u001b[0m \u001b[0;34m=\u001b[0m \u001b[0;34m'Nice to meet you!'\u001b[0m\u001b[0;34m\u001b[0m\u001b[0;34m\u001b[0m\u001b[0m\n\u001b[1;32m      6\u001b[0m     \u001b[0mprint\u001b[0m\u001b[0;34m(\u001b[0m\u001b[0;34mf'{message1} {message2}'\u001b[0m\u001b[0;34m)\u001b[0m\u001b[0;34m\u001b[0m\u001b[0;34m\u001b[0m\u001b[0m\n",
            "\u001b[0;31mUnboundLocalError\u001b[0m: local variable 'message1' referenced before assignment"
          ]
        }
      ]
    },
    {
      "cell_type": "code",
      "source": [
        "#Это связано с тем, что интерпретатору нужно явно указать на использование глобальной переменной с помощью оператора global:\n",
        "message1 = 'Hello!'\n",
        "\n",
        "def greet():\n",
        "    global message1\n",
        "    message1 = message1 * 2\n",
        "    message2 = 'Nice to meet you!'\n",
        "    print(f'{message1} {message2}')\n",
        "\n",
        "greet()\n",
        "print(message1)"
      ],
      "metadata": {
        "colab": {
          "base_uri": "https://localhost:8080/"
        },
        "id": "PmfpTkKF1Dq6",
        "outputId": "b60c1e26-072a-45d9-9173-ced24feef6f9"
      },
      "execution_count": null,
      "outputs": [
        {
          "output_type": "stream",
          "name": "stdout",
          "text": [
            "Hello!Hello! Nice to meet you!\n",
            "Hello!Hello!\n"
          ]
        }
      ]
    },
    {
      "cell_type": "code",
      "source": [
        "#“нелокальная область видимости” вместе с оператором nonlocal. Логика его написания такая же, как и у global.\n",
        "#Однако, nonlocal чаще всего используется во вложенных функциях, когда необходимо дать интерпретатору понять, что для вложенной функции определенная переменная не является локальной, но и не является глобальной в общем смысле.\n",
        "def outerfunction():\n",
        "    x = \"локальная переменная\"\n",
        "\n",
        "    def innerfunction(): #вложенная функция\n",
        "        nonlocal x #Для создания нелокальной переменной мы используем ключевое слово nonlocal\n",
        "        x = \"нелокальная переменная\"\n",
        "        print(\"Вложенная функция:\", x)\n",
        "\n",
        "    innerfunction()\n",
        "    print(\"Внешняя функция:\", x)\n",
        "\n",
        "outerfunction()\n",
        "\n",
        "# Функция innerfunction() определяется внутри функции outerfunction(). Если мы изменим значение нелокальной переменной, изменится и значение локальной переменной."
      ],
      "metadata": {
        "colab": {
          "base_uri": "https://localhost:8080/"
        },
        "id": "S_GupH5Z1SmS",
        "outputId": "f80eea24-0870-4161-8693-2c4c709c92cf"
      },
      "execution_count": null,
      "outputs": [
        {
          "output_type": "stream",
          "name": "stdout",
          "text": [
            "Вложенная функция: нелокальная переменная\n",
            "Внешняя функция: нелокальная переменная\n"
          ]
        }
      ]
    }
  ]
}